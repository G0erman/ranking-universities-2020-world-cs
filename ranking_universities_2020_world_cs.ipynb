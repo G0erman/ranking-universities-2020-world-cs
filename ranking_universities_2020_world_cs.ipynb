{
 "cells": [
  {
   "cell_type": "markdown",
   "metadata": {},
   "source": [
    "# World Top CS Universities [2020]"
   ]
  },
  {
   "cell_type": "markdown",
   "metadata": {},
   "source": [
    "## Import Modules"
   ]
  },
  {
   "cell_type": "code",
   "execution_count": 1,
   "metadata": {},
   "outputs": [],
   "source": [
    "import csv\n",
    "from typing import List"
   ]
  },
  {
   "cell_type": "markdown",
   "metadata": {},
   "source": [
    "## Read Rankings"
   ]
  },
  {
   "cell_type": "markdown",
   "metadata": {},
   "source": [
    "Our data sources are the following:\n",
    "\n",
    "* [QS: World University Rankings 2020 — Computer Science & Information Systems](https://www.topuniversities.com/university-rankings/university-subject-rankings/2020/computer-science-information-systems)\n",
    "* [Times Higher Education: World University Rankings 2020 — Computer Science](https://www.timeshighereducation.com/world-university-rankings/2020/subject-ranking/computer-science)\n",
    "* [Shanghai Ranking Consultancy: Academic Ranking of World Universities 2019 — Computer Science & Engineering](http://www.shanghairanking.com/Shanghairanking-Subject-Rankings/computer-science-engineering.html)\n"
   ]
  },
  {
   "cell_type": "code",
   "execution_count": 2,
   "metadata": {},
   "outputs": [],
   "source": [
    "def read_tsv(path: str) -> List:\n",
    "    with open(path) as tsv_file:\n",
    "        reader = csv.reader(tsv_file, delimiter=\"\\t\")\n",
    "        lines = list(reader)[:50]  # We'll stick to the top-50 institutions\n",
    "\n",
    "        return lines\n",
    "\n",
    "ranking_the = read_tsv(\"data/ranking-the-2020-world-cs.tsv\")\n",
    "ranking_qs = read_tsv(\"data/ranking-qs-2020-world-cs.tsv\")\n",
    "ranking_shanghai = read_tsv(\"data/ranking-shanghai-2019-world-cs.tsv\")"
   ]
  },
  {
   "cell_type": "markdown",
   "metadata": {},
   "source": [
    "## Preview Rankings"
   ]
  },
  {
   "cell_type": "markdown",
   "metadata": {},
   "source": [
    "### QS Ranking"
   ]
  },
  {
   "cell_type": "code",
   "execution_count": 3,
   "metadata": {},
   "outputs": [
    {
     "name": "stdout",
     "output_type": "stream",
     "text": [
      "Length: 50\n",
      "1\tMassachusetts Institute of Technology (MIT)\n",
      "2\tStanford University\n",
      "3\tCarnegie Mellon University\n",
      "4\tUniversity of California, Berkeley\n",
      "5\tUniversity of Oxford\n",
      "6\tUniversity of Cambridge\n",
      "7\tHarvard University\n",
      "8\tEcole Polytechnique FÃ©dÃ©rale de Lausanne (EPFL)\n",
      "9\tETH Zurich\n",
      "10\tUniversity of Toronto\n"
     ]
    }
   ],
   "source": [
    "def preview(ranking: List, line_cnt: int = 10) -> None:\n",
    "    print(f\"Length: {len(ranking)}\")\n",
    "\n",
    "    for i in range(line_cnt):\n",
    "        rank, uni = ranking[i]\n",
    "\n",
    "        print(f\"{rank}\\t{uni}\")\n",
    "\n",
    "preview(ranking_qs)"
   ]
  },
  {
   "cell_type": "markdown",
   "metadata": {},
   "source": [
    "### THE Ranking"
   ]
  },
  {
   "cell_type": "code",
   "execution_count": 4,
   "metadata": {},
   "outputs": [
    {
     "name": "stdout",
     "output_type": "stream",
     "text": [
      "Length: 50\n",
      "1\tUniversity of Oxford\n",
      "2\tStanford University\n",
      "3\tETH Zurich\n",
      "4\tMassachusetts Institute of Technology (MIT)\n",
      "5\tUniversity of Cambridge\n",
      "6\tCarnegie Mellon University\n",
      "7\tImperial College London\n",
      "8\tHarvard University\n",
      "9\tPrinceton University\n",
      "10\tCalifornia Institute of Technology (Caltech)\n"
     ]
    }
   ],
   "source": [
    "preview(ranking_the)"
   ]
  },
  {
   "cell_type": "markdown",
   "metadata": {},
   "source": [
    "### Shanghai Ranking"
   ]
  },
  {
   "cell_type": "code",
   "execution_count": 5,
   "metadata": {},
   "outputs": [
    {
     "name": "stdout",
     "output_type": "stream",
     "text": [
      "Length: 50\n",
      "1\tMassachusetts Institute of Technology (MIT)\n",
      "2\tStanford University\n",
      "3\tUniversity of California, Berkeley\n",
      "4\tCarnegie Mellon University\n",
      "5\tETH Zurich\n",
      "6\tHarvard University\n",
      "7\tTsinghua University\n",
      "8\tUniversity of California, Los Angeles (UCLA)\n",
      "9\tPrinceton University\n",
      "10\tUniversity of Oxford\n"
     ]
    }
   ],
   "source": [
    "preview(ranking_shanghai)"
   ]
  },
  {
   "cell_type": "markdown",
   "metadata": {},
   "source": [
    "## Clean Rankings"
   ]
  },
  {
   "cell_type": "code",
   "execution_count": 6,
   "metadata": {},
   "outputs": [],
   "source": [
    "def get_unis(ranking: List) -> set:\n",
    "    unis = set()\n",
    "    for _, uni in ranking:\n",
    "        unis.add(uni)\n",
    "    \n",
    "    return unis\n",
    "\n",
    "universities_the = get_unis(ranking_the)\n",
    "universities_qs = get_unis(ranking_qs)\n",
    "universities_shanghai = get_unis(ranking_shanghai)"
   ]
  },
  {
   "cell_type": "code",
   "execution_count": 7,
   "metadata": {},
   "outputs": [
    {
     "name": "stdout",
     "output_type": "stream",
     "text": [
      "50\n",
      "50\n",
      "50\n"
     ]
    }
   ],
   "source": [
    "# Check sizes\n",
    "print(len(universities_the))\n",
    "print(len(universities_qs))\n",
    "print(len(universities_shanghai))"
   ]
  },
  {
   "cell_type": "code",
   "execution_count": 8,
   "metadata": {},
   "outputs": [],
   "source": [
    "universities_all = universities_the | universities_qs | universities_shanghai  # To eliminate duplicates\n",
    "\n",
    "# The file saved below was used to make duplicates more apparent. These were then\n",
    "# eliminated by harmonizing the univerisity names across the three starting rankings.\n",
    "with open(\"data/universities_sorted.tsv\", \"w\") as file:\n",
    "    file.write(f\"{len(universities_all)}\\n\")\n",
    "    for uni in sorted(universities_all):\n",
    "        file.write(f\"{uni}\\n\")"
   ]
  },
  {
   "cell_type": "code",
   "execution_count": 9,
   "metadata": {},
   "outputs": [
    {
     "data": {
      "text/plain": [
       "71"
      ]
     },
     "execution_count": 9,
     "metadata": {},
     "output_type": "execute_result"
    }
   ],
   "source": [
    "len(universities_all)"
   ]
  },
  {
   "cell_type": "markdown",
   "metadata": {},
   "source": [
    "## Merge Rankings"
   ]
  },
  {
   "cell_type": "code",
   "execution_count": 10,
   "metadata": {},
   "outputs": [],
   "source": [
    "rankings_per_university = {}\n",
    "\n",
    "rankings_cleaned = [ranking_the, ranking_qs, ranking_shanghai]\n",
    "\n",
    "for ranking in rankings_cleaned:\n",
    "    for rank, uni in ranking:\n",
    "        rank = int(rank)\n",
    "\n",
    "        if uni in rankings_per_university:\n",
    "            rankings_per_university[uni].append(rank)\n",
    "        else:\n",
    "            rankings_per_university[uni] = [rank]"
   ]
  },
  {
   "cell_type": "code",
   "execution_count": 11,
   "metadata": {},
   "outputs": [
    {
     "name": "stdout",
     "output_type": "stream",
     "text": [
      "{'University of Oxford': [1, 5, 10], 'Stanford University': [2, 2, 2], 'ETH Zurich': [3, 9, 5], 'Massachusetts Institute of Technology (MIT)': [4, 1, 1], 'University of Cambridge': [5, 6, 27], 'Carnegie Mellon University': [6, 3, 4], 'Imperial College London': [7, 14, 40], 'Harvard University': [8, 7, 6], 'Princeton University': [9, 11, 9], 'California Institute of Technology (Caltech)': [10, 29], 'National University of Singapore': [11, 12, 16], 'University of California, Los Angeles (UCLA)': [12, 15, 8], 'Nanyang Technological University (NTU)': [13, 16, 13], 'Cornell University': [14, 19, 14], 'Tsinghua University': [15, 13, 7], 'Georgia Institute of Technology': [16, 27, 18], 'Hong Kong University of Science and Technology': [17, 26], 'Technical University of Munich': [18, 36], 'University College London (UCL)': [19, 17, 19], 'Ecole Polytechnique FÃ©dÃ©rale de Lausanne (EPFL)': [20, 8, 33], 'Columbia University': [21, 19, 22], 'University of Michigan-Ann Arbor': [22, 48, 20], 'University of Toronto': [23, 10, 12], 'University of Edinburgh': [24, 23, 21], 'University of Texas at Austin': [25, 31, 11], 'University of Washington': [26, 18, 26], 'Peking University': [27, 19, 41], 'Yale University': [28, 46], 'University of Illinois at Urbana-Champaign': [29, 33, 24], 'Johns Hopkins University': [30], 'University of Montreal': [31], 'University of Pennsylvania': [31, 35], 'New York University (NYU)': [33, 19, 37], 'UniversitÃ© Paris Sciences et Lettres (PSL)': [34, 39], 'University of California, San Diego': [35, 36], 'Chinese University of Hong Kong (CUHK)': [36, 30, 23], 'University of Southern California': [37, 44, 15], 'University of Hong Kong': [38, 38], 'University of Chicago': [39, 47], 'University of Waterloo': [40, 24, 44], 'Zhejiang University': [41, 31], 'University of Tokyo': [42, 28], 'University of British Columbia': [43, 25, 45], 'Korea Advanced Institute of Science and Technology (KAIST)': [44, 36], 'Shanghai Jiao Tong University': [45, 34, 27], 'RWTH Aachen University': [46], 'Delft University of Technology': [47], 'Seoul National University': [47, 48], 'University of Maryland, College Park': [49, 50, 38], 'Karlsruhe Institute of Technology (KIT)': [50], 'University of California, Berkeley': [4, 3], 'University of Melbourne': [32], 'Politecnico di Milano': [40], 'Australian National University': [41, 46], 'University of Sydney': [42], 'KTH Royal Institute of Technology': [43], 'University of Amsterdam': [45], 'University of North Carolina at Chapel Hill': [17], 'University of Copenhagen': [25], 'University of Technology Sydney': [29], 'University of Wisconsin-Madison': [30], 'Weizmann Institute of Science': [32], 'University of Science and Technology of China': [34], 'Harbin Institute of Technology': [35], 'Huazhong University of Science and Technology': [39], 'City University of Hong Kong': [41], 'University of Adelaide': [43], 'Aalto University': [47], 'University of Electronic Science and Technology of China': [48], 'University of Oslo': [49], 'Hong Kong Polytechnic University': [50]}\n"
     ]
    }
   ],
   "source": [
    "print(rankings_per_university)  # Preview"
   ]
  },
  {
   "cell_type": "code",
   "execution_count": 12,
   "metadata": {},
   "outputs": [],
   "source": [
    "ranking_2020_world_cs = {}\n",
    "\n",
    "for uni, ranks in rankings_per_university.items():\n",
    "    while (len(ranks) < 3):\n",
    "        ranks.append(100)  # If not present, we default to a #100 ranking.\n",
    "    \n",
    "    rank = sum(ranks) / len(ranks)\n",
    "\n",
    "    ranking_2020_world_cs[uni] = rank "
   ]
  },
  {
   "cell_type": "markdown",
   "metadata": {},
   "source": [
    "## Save Final Ranking"
   ]
  },
  {
   "cell_type": "code",
   "execution_count": 13,
   "metadata": {},
   "outputs": [
    {
     "name": "stdout",
     "output_type": "stream",
     "text": [
      "1 \t Massachusetts Institute of Technology (MIT) \t 2.00\n",
      "2 \t Stanford University \t 2.00\n",
      "3 \t Carnegie Mellon University \t 4.33\n",
      "4 \t University of Oxford \t 5.33\n",
      "5 \t ETH Zurich \t 5.67\n",
      "6 \t Harvard University \t 7.00\n",
      "7 \t Princeton University \t 9.67\n",
      "8 \t Tsinghua University \t 11.67\n",
      "9 \t University of California, Los Angeles (UCLA) \t 11.67\n",
      "10 \t University of Cambridge \t 12.67\n"
     ]
    }
   ],
   "source": [
    "def save_ranking(ranking: dict) -> None:\n",
    "    cnt = 0\n",
    "    with open(\"data/ranking_2020_world_cs.tsv\", \"w\") as file:\n",
    "        for uni, rank in sorted(ranking.items(), key=lambda item: (item[1], item[0])):\n",
    "            cnt += 1\n",
    "            line = f\"{cnt} \\t {uni} \\t {rank:.2f}\"\n",
    "            file.write(f\"{line}\\n\")\n",
    "            if cnt <= 10:\n",
    "                print(line)  # Let's print the top 10 universities\n",
    "\n",
    "save_ranking(ranking_2020_world_cs)"
   ]
  },
  {
   "cell_type": "markdown",
   "metadata": {},
   "source": [
    "# MOOCs"
   ]
  },
  {
   "cell_type": "markdown",
   "metadata": {},
   "source": [
    "## Review in ClassCentral DataBase"
   ]
  },
  {
   "cell_type": "markdown",
   "metadata": {},
   "source": [
    " - https://www.classcentral.com/providers\n",
    " - https://www.classcentral.com/universities\n",
    " - https://www.classcentral.com/report/mooc-stats-2019/"
   ]
  },
  {
   "cell_type": "markdown",
   "metadata": {},
   "source": [
    "# Ref: \n",
    " - https://www.classcentral.com/report/cs-online-courses/"
   ]
  }
 ],
 "metadata": {
  "file_extension": ".py",
  "kernelspec": {
   "display_name": "Python 3",
   "language": "python",
   "name": "python3"
  },
  "language_info": {
   "codemirror_mode": {
    "name": "ipython",
    "version": 3
   },
   "file_extension": ".py",
   "mimetype": "text/x-python",
   "name": "python",
   "nbconvert_exporter": "python",
   "pygments_lexer": "ipython3",
   "version": "3.8.2"
  },
  "mimetype": "text/x-python",
  "name": "python",
  "npconvert_exporter": "python",
  "pygments_lexer": "ipython3",
  "toc": {
   "base_numbering": 1,
   "nav_menu": {},
   "number_sections": true,
   "sideBar": true,
   "skip_h1_title": false,
   "title_cell": "Table of Contents",
   "title_sidebar": "Contents",
   "toc_cell": false,
   "toc_position": {},
   "toc_section_display": true,
   "toc_window_display": false
  },
  "version": 3
 },
 "nbformat": 4,
 "nbformat_minor": 2
}
